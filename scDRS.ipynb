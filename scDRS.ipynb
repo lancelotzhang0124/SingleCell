{
 "cells": [
  {
   "cell_type": "code",
   "execution_count": null,
   "id": "0401045f",
   "metadata": {},
   "outputs": [],
   "source": [
    "import scdrs\n",
    "import scanpy as sc\n",
    "sc.set_figure_params(dpi=125)\n",
    "from anndata import AnnData\n",
    "from scipy import stats\n",
    "import pandas as pd\n",
    "import numpy as np\n",
    "import seaborn as sns\n",
    "import matplotlib.pyplot as plt\n",
    "import os\n",
    "import warnings\n",
    "\n",
    "warnings.filterwarnings(\"ignore\")"
   ]
  },
  {
   "cell_type": "code",
   "execution_count": null,
   "id": "c67fb522",
   "metadata": {},
   "outputs": [],
   "source": [
    "\n",
    "DATA_PATH = scdrs.__path__[0]\n",
    "H5AD_FILE = os.path.join(DATA_PATH, \"data/toydata_mouse.h5ad\")\n",
    "COV_FILE = os.path.join(DATA_PATH, \"data/toydata_mouse.cov\")\n",
    "GS_FILE = os.path.join(DATA_PATH, \"data/toydata_mouse.gs\")\n",
    "\n",
    "# Load .h5ad file, .cov file, and .gs file\n",
    "adata = scdrs.util.load_h5ad(H5AD_FILE, flag_filter_data=False, flag_raw_count=False)\n",
    "df_cov = pd.read_csv(COV_FILE, sep=\"\\t\", index_col=0)\n",
    "df_gs = scdrs.util.load_gs(GS_FILE)\n",
    "\n",
    "# Preproecssing .h5ad data compute scDRS score\n",
    "scdrs.preprocess(adata, cov=df_cov)\n",
    "gene_list = df_gs['toydata_gs_mouse'][0]\n",
    "gene_weight = df_gs['toydata_gs_mouse'][1]\n",
    "df_res = scdrs.score_cell(adata, gene_list, gene_weight=gene_weight, n_ctrl=20)"
   ]
  },
  {
   "cell_type": "code",
   "execution_count": null,
   "id": "b787ff07",
   "metadata": {
    "scrolled": true
   },
   "outputs": [],
   "source": [
    "print(df_res.iloc[:4])"
   ]
  },
  {
   "cell_type": "code",
   "execution_count": null,
   "id": "bfa272e5",
   "metadata": {},
   "outputs": [],
   "source": [
    "os.chdir(\"/home/lfzhang/SingleCell/py/scDRS\")"
   ]
  },
  {
   "cell_type": "code",
   "execution_count": null,
   "id": "90f4bbf8",
   "metadata": {},
   "outputs": [],
   "source": [
    "adata = sc.read_h5ad(\"anndata.h5ad\")"
   ]
  },
  {
   "cell_type": "code",
   "execution_count": null,
   "id": "28ba9f90",
   "metadata": {},
   "outputs": [],
   "source": [
    "\n",
    "\n",
    "#!scdrs compute-score \\\n",
    "    --h5ad_file anndata.h5ad\\\n",
    "    --h5ad_species human\\\n",
    "    --gs-file processed_geneset.gs\\\n",
    "    --gs-species human\\\n",
    "    --flag-filter-data True\\\n",
    "    --flag-raw-count True\\\n",
    "    --n-ctrl 1000\\\n",
    "    --flag-return-ctrl-raw-score False\\\n",
    "    --flag-return-ctrl-norm-score True\\\n",
    "    --out_folder /home/lfzhang/SingleCell/py/scDRS/results"
   ]
  },
  {
   "cell_type": "code",
   "execution_count": null,
   "id": "9b8ad02a",
   "metadata": {},
   "outputs": [],
   "source": [
    "df_gs = pd.read_csv(\"processed_geneset.gs\", sep=\"\\t\", index_col=0)\n",
    "print(df_gs.index)"
   ]
  },
  {
   "cell_type": "code",
   "execution_count": null,
   "id": "e2993df5",
   "metadata": {},
   "outputs": [],
   "source": [
    "dict_score = {\n",
    "    trait: pd.read_csv(f\"results/MDD.full_score.gz\", sep=\"\\t\", index_col=0)\n",
    "    for trait in df_gs.index\n",
    "}"
   ]
  },
  {
   "cell_type": "code",
   "execution_count": null,
   "id": "d5046d59",
   "metadata": {},
   "outputs": [],
   "source": [
    "for trait in dict_score:\n",
    "    adata.obs[trait] = dict_score[trait][\"norm_score\"]"
   ]
  },
  {
   "cell_type": "code",
   "execution_count": null,
   "id": "71e4ae92",
   "metadata": {
    "scrolled": false
   },
   "outputs": [],
   "source": [
    "sc.set_figure_params(figsize=[2.5, 2.5], dpi=150)\n",
    "sc.pl.umap(\n",
    "    adata,\n",
    "    color=dict_score.keys(),\n",
    "    color_map=\"RdBu_r\",\n",
    "    vmin=-5,\n",
    "    vmax=5,\n",
    "    s=20,\n",
    ")\n"
   ]
  },
  {
   "cell_type": "code",
   "execution_count": null,
   "id": "a478a6e0",
   "metadata": {},
   "outputs": [],
   "source": [
    "for trait, df in dict_score.items():\n",
    "    print(f\"Trait: {trait}\")\n",
    "    print(df.head())"
   ]
  },
  {
   "cell_type": "code",
   "execution_count": null,
   "id": "4a23ad88",
   "metadata": {},
   "outputs": [],
   "source": [
    "print(adata.obs.head())"
   ]
  },
  {
   "cell_type": "code",
   "execution_count": null,
   "id": "31633e10",
   "metadata": {},
   "outputs": [],
   "source": [
    "for trait in dict_score:\n",
    "    print(f\"Trait: {trait}\")\n",
    "    print(dict_score[trait][\"norm_score\"].describe())"
   ]
  },
  {
   "cell_type": "code",
   "execution_count": null,
   "id": "c91c82ba",
   "metadata": {},
   "outputs": [],
   "source": [
    "dict_score = {\n",
    "    trait: pd.read_csv(f\"results/{trait}.full_score.gz\", sep=\"\\t\", index_col=0)\n",
    "    for trait in df_gs.index\n",
    "}\n",
    "\n",
    "# 确认每个性状的数据都正确加载\n",
    "for trait, df in dict_score.items():\n",
    "    print(f\"Trait: {trait}\")\n",
    "    print(df.head())"
   ]
  },
  {
   "cell_type": "code",
   "execution_count": null,
   "id": "a4fc7a1f",
   "metadata": {},
   "outputs": [],
   "source": [
    "for trait in dict_score:\n",
    "    adata.obs[trait] = dict_score[trait][\"norm_score\"]\n",
    "\n",
    "sc.set_figure_params(figsize=[4, 4], dpi=150)\n",
    "\n"
   ]
  },
  {
   "cell_type": "code",
   "execution_count": null,
   "id": "13d811b9",
   "metadata": {
    "scrolled": true
   },
   "outputs": [],
   "source": [
    "# 绘制UMAP图\n",
    "sc.pl.umap(\n",
    "    adata,\n",
    "    color=list(dict_score.keys()),\n",
    "    color_map=\"magma\",  # 选择一个不同的颜色映射\n",
    "    vmin=0,  # 调整颜色范围\n",
    "    vmax=4,\n",
    "    s=30,  # 调整点大小\n",
    "    ncols=3,  # 将性状分别绘制在不同列中\n",
    "    save=\"MDD_scDRS.png\"\n",
    ")"
   ]
  },
  {
   "cell_type": "code",
   "execution_count": null,
   "id": "1e9fc3b9",
   "metadata": {},
   "outputs": [],
   "source": [
    "import scdrs\n",
    "import scanpy as sc\n",
    "sc.set_figure_params(dpi=125)\n",
    "from anndata import AnnData\n",
    "from scipy import stats\n",
    "import pandas as pd\n",
    "import numpy as np\n",
    "import seaborn as sns\n",
    "import matplotlib.pyplot as plt\n",
    "import os\n",
    "import warnings\n",
    "\n",
    "warnings.filterwarnings(\"ignore\")\n",
    "\n",
    "os.chdir(\"/home/lfzhang/SingleCell/py/scDRS\")\n",
    "\n",
    "adata = sc.read_h5ad(\"anndata.h5ad\")\n",
    "df_gs = pd.read_csv(\"processed_geneset.gs\", sep=\"\\t\", index_col=0)\n",
    "print(df_gs.index)   \n",
    "dict_score = {\n",
    "    trait: pd.read_csv(f\"results/{trait}.full_score.gz\", sep=\"\\t\", index_col=0)\n",
    "    for trait in df_gs.index\n",
    "}\n",
    "# 确认每个性状的数据都正确加载\n",
    "for trait, df in dict_score.items():\n",
    "    print(f\"Trait: {trait}\")\n",
    "    print(df.head())\n",
    "for trait in dict_score:\n",
    "    adata.obs[trait] = dict_score[trait][\"norm_score\"]\n",
    "# 绘制UMAP图\n",
    "sc.pl.umap(\n",
    "    adata,\n",
    "    color=list(dict_score.keys()),\n",
    "    color_map=\"magma\",  # 选择一个不同的颜色映射\n",
    "    vmin=0,  # 调整颜色范围\n",
    "    vmax=3,\n",
    "    s=50,  # 调整点大小\n",
    "    ncols=3,  # 将性状分别绘制在不同列中\n",
    "#   save=\"MDD_scDRS.png\"\n",
    ")"
   ]
  }
 ],
 "metadata": {
  "celltoolbar": "原始单元格格式",
  "kernelspec": {
   "display_name": "Python [conda env:py3.11] *",
   "language": "python",
   "name": "conda-env-py3.11-py"
  },
  "language_info": {
   "codemirror_mode": {
    "name": "ipython",
    "version": 3
   },
   "file_extension": ".py",
   "mimetype": "text/x-python",
   "name": "python",
   "nbconvert_exporter": "python",
   "pygments_lexer": "ipython3",
   "version": "3.11.6"
  }
 },
 "nbformat": 4,
 "nbformat_minor": 5
}
