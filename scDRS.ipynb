{
 "cells": [
  {
   "cell_type": "code",
   "execution_count": null,
   "metadata": {
    "vscode": {
     "languageId": "plaintext"
    }
   },
   "outputs": [],
   "source": [
    "import scdrs\n",
    "import scanpy as sc\n",
    "sc.set_figure_params(dpi=300)\n",
    "from anndata import AnnData\n",
    "from scipy import stats\n",
    "import pandas as pd\n",
    "import numpy as np\n",
    "import seaborn as sns\n",
    "import matplotlib.pyplot as plt\n",
    "import os\n",
    "import warnings\n",
    "warnings.filterwarnings(\"ignore\")\n",
    "import llvmlite\n",
    "print(llvmlite.__version__)\n",
    "import importlib.metadata\n",
    "print(\"importlib.metadata version:\", importlib.metadata.version('importlib.metadata'))"
   ]
  },
  {
   "cell_type": "code",
   "execution_count": null,
   "metadata": {
    "vscode": {
     "languageId": "plaintext"
    }
   },
   "outputs": [],
   "source": [
    "os.chdir(\"/home/lfzhang/SingleCell/py/scDRS\")\n",
    "adata = sc.read_h5ad(\"anndata_mdd.h5ad\")"
   ]
  },
  {
   "cell_type": "code",
   "execution_count": null,
   "metadata": {
    "vscode": {
     "languageId": "plaintext"
    }
   },
   "outputs": [],
   "source": [
    "!scdrs munge-gs output.gs --zscore-file eqtl.txt --n-max 1000"
   ]
  },
  {
   "cell_type": "code",
   "execution_count": null,
   "metadata": {
    "vscode": {
     "languageId": "plaintext"
    }
   },
   "outputs": [],
   "source": [
    "!scdrs compute-score \\\n",
    "    --h5ad_file anndata_mdd.h5ad\\\n",
    "    --h5ad_species human\\\n",
    "    --gs-file processed_geneset.gs\\\n",
    "    --gs-species human\\\n",
    "    --flag-filter-data True\\\n",
    "    --flag-raw-count True\\\n",
    "    --n-ctrl 1000\\\n",
    "    --flag-return-ctrl-raw-score False\\\n",
    "    --flag-return-ctrl-norm-score True\\\n",
    "    --out_folder /home/lfzhang/SingleCell/py/scDRS/results_mdd"
   ]
  },
  {
   "cell_type": "code",
   "execution_count": null,
   "metadata": {
    "vscode": {
     "languageId": "plaintext"
    }
   },
   "outputs": [],
   "source": [
    "df_gs = pd.read_csv(\"processed_geneset.gs\", sep=\"\\t\", index_col=0)\n",
    "print(df_gs.index)\n",
    "dict_score = {\n",
    "    trait: pd.read_csv(f\"results_mdd/{trait}.full_score.gz\", sep=\"\\t\", index_col=0)\n",
    "    for trait in df_gs.index\n",
    "}\n",
    "for trait, df in dict_score.items():\n",
    "    print(f\"Trait: {trait}\")\n",
    "    print(df.head())"
   ]
  },
  {
   "cell_type": "code",
   "execution_count": null,
   "metadata": {
    "vscode": {
     "languageId": "plaintext"
    }
   },
   "outputs": [],
   "source": [
    "for trait in dict_score:\n",
    "    adata.obs[trait] = dict_score[trait][\"norm_score\"]\n",
    "\n",
    "sc.set_figure_params(figsize=[4, 4], dpi=300)\n",
    "sc.pl.umap(\n",
    "    adata,\n",
    "    color=list(dict_score.keys()),\n",
    "    color_map=\"magma\",  # 选择一个不同的颜色映射\n",
    "    vmin=0,  # 调整颜色范围\n",
    "    vmax=4,\n",
    "    s=30,  # 调整点大小\n",
    "    ncols=2,  # 将性状分别绘制在不同列中\n",
    "    save=\"MDD_scDRS_mdd.png\"\n",
    ")"
   ]
  },
  {
   "cell_type": "code",
   "execution_count": null,
   "metadata": {
    "vscode": {
     "languageId": "plaintext"
    }
   },
   "outputs": [],
   "source": [
    "!python compute_downstream.py \\\n",
    "    --h5ad_file anndata_mdd.h5ad \\\n",
    "    --score_file results_mdd/MDD-GWAS.full_score.gz \\\n",
    "    --cell_type \"MainType\" \\\n",
    "    --flag_gene True\\\n",
    "    --flag_filter False\\\n",
    "    --flag_raw_count False\\\n",
    "    --out_folder /home/lfzhang/SingleCell/py/scDRS/results_mdd"
   ]
  },
  {
   "cell_type": "code",
   "execution_count": null,
   "metadata": {
    "vscode": {
     "languageId": "plaintext"
    }
   },
   "outputs": [],
   "source": [
    "output_folder = \"/home/lfzhang/SingleCell/py/scDRS/results_mdd\"\n",
    "ct_file = f\"{output_folder}/MDD.scdrs_ct.MainType\"\n",
    "ct_data = pd.read_csv(ct_file, sep=\"\\t\")\n",
    "print(\"celltypes_results:\")\n",
    "print(ct_data.head(10))\n",
    "ct_data.to_csv(\"/home/lfzhang/SingleCell/py/scDRS/results_mdd/celltype.csv\", index=False)\n",
    "gene_file = f\"{output_folder}/MDD.scdrs_gene\"\n",
    "gene_data = pd.read_csv(gene_file, sep=\"\\t\")\n",
    "print(\"prior_gene_results:\")\n",
    "print(gene_data.head(100))\n",
    "gene_data.to_csv(\"/home/lfzhang/SingleCell/py/scDRS/results_mdd/riskgene.csv\", index=False)"
   ]
  }
 ],
 "metadata": {
  "language_info": {
   "name": "python"
  }
 },
 "nbformat": 4,
 "nbformat_minor": 2
}
