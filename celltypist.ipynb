{
 "cells": [
  {
   "cell_type": "code",
   "execution_count": null,
   "metadata": {},
   "outputs": [],
   "source": [
    "import pandas as pd\n",
    "import numpy as np\n",
    "import omicverse as ov\n",
    "import anndata\n",
    "print(f'omicverse version: {ov.__version__}')\n",
    "import scanpy as sc\n",
    "print(f'scanpy version: {sc.__version__}')\n",
    "ov.ov_plot_set()\n",
    "from scipy import sparse\n",
    "import celltypist\n",
    "print(f'celltypist version: {celltypist.__version__}')\n",
    "from celltypist import models\n",
    "celltypist.models.download_models()\n",
    "model = models.Model.load(model = 'Human_AdultAged_Hippocampus.pkl')\n",
    "#The model summary information.\n",
    "model\n",
    "\n"
   ]
  },
  {
   "cell_type": "code",
   "execution_count": null,
   "metadata": {},
   "outputs": [],
   "source": [
    "model = models.Model.load(model = 'Human_AdultAged_Hippocampus.pkl')\n",
    "# load data\n",
    "adata = sc.read_h5ad('./adata_processed.h5ad')\n",
    "# annotate\n",
    "predictions = celltypist.annotate(adata, model = model, majority_voting = True)\n",
    "\n"
   ]
  },
  {
   "cell_type": "code",
   "execution_count": null,
   "metadata": {},
   "outputs": [],
   "source": [
    "predictions.predicted_labels"
   ]
  },
  {
   "cell_type": "code",
   "execution_count": null,
   "metadata": {},
   "outputs": [],
   "source": [
    "adata = predictions.to_adata()\n",
    "adata.obs"
   ]
  },
  {
   "cell_type": "code",
   "execution_count": null,
   "metadata": {},
   "outputs": [],
   "source": [
    "sc.pl.umap(adata, color = ['predicted_labels', 'majority_voting'], legend_loc = 'on data')"
   ]
  },
  {
   "cell_type": "code",
   "execution_count": null,
   "metadata": {},
   "outputs": [],
   "source": [
    "adata.write('adata_processed.h5ad')"
   ]
  }
 ],
 "metadata": {
  "kernelspec": {
   "display_name": "py3.11",
   "language": "python",
   "name": "python3"
  },
  "language_info": {
   "codemirror_mode": {
    "name": "ipython",
    "version": 3
   },
   "file_extension": ".py",
   "mimetype": "text/x-python",
   "name": "python",
   "nbconvert_exporter": "python",
   "pygments_lexer": "ipython3",
   "version": "3.11.6"
  }
 },
 "nbformat": 4,
 "nbformat_minor": 2
}
